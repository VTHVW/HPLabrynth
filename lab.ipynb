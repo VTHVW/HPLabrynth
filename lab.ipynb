{
  "nbformat": 4,
  "nbformat_minor": 0,
  "metadata": {
    "colab": {
      "provenance": []
    },
    "kernelspec": {
      "name": "python3",
      "display_name": "Python 3"
    },
    "language_info": {
      "name": "python"
    }
  },
  "cells": [
    {
      "cell_type": "markdown",
      "source": [
        "## Challenge #2 Second Semester 2025 HPC ing mat, Turco Vale 10809855\n",
        "\n",
        "I'll use my public [github repo](https://github.com/VTHVW/HPLabrynth). you can check that the last commit and push was made before the challenge deadline.\n",
        "\n",
        "It builds a binary that handles both the labyrinth checking and creation.\n",
        "\n",
        "First, we need to actually clone the repo and build the binaries. We are also going to need zsh, since i have also made a couple of zsh scripts that will generate a bunch of labyrinths for us automatically for testing."
      ],
      "metadata": {
        "id": "eXNzthoNTWjk"
      }
    },
    {
      "cell_type": "code",
      "execution_count": null,
      "metadata": {
        "id": "p48i5JGLJYCY"
      },
      "outputs": [],
      "source": [
        "!sudo apt install zsh git"
      ]
    },
    {
      "cell_type": "markdown",
      "source": [
        "we start by cloning the repo and making the 3 zsh scripts executable."
      ],
      "metadata": {
        "id": "j_9bgWSGVW1-"
      }
    },
    {
      "cell_type": "code",
      "source": [
        "%cd /content/\n",
        "!rm -rf HPLabrynth && git clone https://github.com/VTHVW/HPLabrynth.git\n",
        "%cd /content/HPLabrynth/\n",
        "!chmod +x ./compile* ./test_labs ./make_lots_of_labs"
      ],
      "metadata": {
        "id": "F8Lg2DpXJ71x"
      },
      "execution_count": null,
      "outputs": []
    },
    {
      "cell_type": "markdown",
      "source": [
        "You should probaly read the README.md and the other files on github but i am also going to use \"cat\" here on colab to show the interesting files."
      ],
      "metadata": {
        "id": "2Rji4Om5VhSs"
      }
    },
    {
      "cell_type": "code",
      "source": [
        "!cat README.md"
      ],
      "metadata": {
        "id": "aDweuKBJKuMc"
      },
      "execution_count": null,
      "outputs": []
    },
    {
      "cell_type": "markdown",
      "source": [
        "This explains part of the logic used for creating and checking the labyrinth.\n",
        "\n",
        "The important class is `HPLab` in the `HPLabrynth` namespace.\n",
        "\n",
        "Defined as follows:\n",
        "\n",
        "\n",
        "\n"
      ],
      "metadata": {
        "id": "TMRlODz2WIL0"
      }
    },
    {
      "cell_type": "code",
      "source": [
        "!tail src/HPLabrynth.h -n 27 | head -n 24 | sed '/operator/d' | sed '/^$/d'"
      ],
      "metadata": {
        "id": "RellXqnMXLg5"
      },
      "execution_count": null,
      "outputs": []
    },
    {
      "cell_type": "markdown",
      "source": [
        "##Labyrinth Generation\n",
        "The labyrinth are generated with the second listed constructor, which can chose to either generate an always valid labyrinth or generate one without checking if it is. this is controlled by the `make_valid` parameter.\n",
        "(by valid here i mean a labyrinth with a path between entrance and exit).\n",
        "\n",
        "The generation is done with some simple PRNG, seeded by a `random_device` when present on the machine, and the current time otherwise.\n",
        "\n",
        "The validity check is done with a simplifed version of the method described in this [wikipedia article](https://en.wikipedia.org/wiki/Maze_generation_algorithm#Iterative_randomized_Kruskal's_algorithm_(with_sets)).\n",
        "This algorithm is far from perfect and sometimes it generate labyrinth with too few walls. It could be improved by repeating the generation until a certain amount of valid cells is obtained.\n",
        "\n",
        "## Labyrinth Checking\n",
        "To check a labyrinth we first need to retrieve the Labirynth parameters from a file, this is done with the `HPLAbrynth::getLabParamsFromFile` function. We can directly pass the output of this function to the HPLab constructor.\n",
        "\n",
        "This will initialize the DS data structure, calling `makeSet` on each cell.\n",
        "Note that every cell contains a `valid` field, this is set to false when we are on a wall (\"x\") and true when we are on a path (\" \"). Every operation of the DS data structure implemented (link,find and unite) does nothing when called on an invalid cell. This simplifies the class logic.\n",
        "\n",
        "Finally to check if the labrynth is valid we can call `HPLab::hasPath`. This method will call `unite` on every set, linking the ones that are not separated by invalid cells (on which `link` does nothing). This method returns a bool which is simply `find(start) == find(end)`. Indeed the path is found if start and end are part of a connected graph (and therefore have the same set representative).\n",
        "\n",
        "\n",
        "Note: N and M are the dimensions of the labyrinth (width and height respectively).\n",
        "\n",
        "Next I'll show the most interesting methods (please go on github for syntax highlighting...)."
      ],
      "metadata": {
        "id": "n_HTWbRXXQUh"
      }
    },
    {
      "cell_type": "markdown",
      "source": [
        "## The DS methods:\n",
        "(HPLabrynth.cpp line 331)"
      ],
      "metadata": {
        "id": "NzL5U2ipfyb6"
      }
    },
    {
      "cell_type": "code",
      "source": [
        "!tail src/HPLabrynth.cpp  -n 65 | head -n 38 | sed '/operator/d' | sed '/^$/d'"
      ],
      "metadata": {
        "id": "gOKqGBGvXP2n"
      },
      "execution_count": null,
      "outputs": []
    },
    {
      "cell_type": "markdown",
      "source": [
        "## The constructors:\n",
        "(HPLabrynth.cpp line 256)"
      ],
      "metadata": {
        "id": "bokzI9Dvf3rT"
      }
    },
    {
      "cell_type": "code",
      "source": [
        "!tail src/HPLabrynth.cpp  -n 188 | head -n 64 | sed '/^$/d'"
      ],
      "metadata": {
        "id": "WRqulCMvhCjy"
      },
      "execution_count": null,
      "outputs": []
    },
    {
      "cell_type": "markdown",
      "source": [
        "## Executing the code\n",
        "Now we can compile the code. i am going to use my own script to do it, cmake was far too complicated for this simple project, therefore I'm just going to use the g++ linux command.\n",
        "\n",
        "I've made two versions of the \"compile\" script: one just compiles with normal parameters, the other adds -O3. I haven't exensively checked the -O3 version for bugs but it should work without problems. (the executable name is also different)\n",
        "\n",
        "Note: the library is statically linked."
      ],
      "metadata": {
        "id": "jMUyTWJkh3FZ"
      }
    },
    {
      "cell_type": "code",
      "source": [
        "!cat ./compile\n",
        "!./compile"
      ],
      "metadata": {
        "id": "ULo-QiExLYa4"
      },
      "execution_count": null,
      "outputs": []
    },
    {
      "cell_type": "markdown",
      "source": [
        "## Finally using the program!\n",
        "Now that it is compiled the executable offers us with a couple of options.\n",
        "\n",
        "I've provided the program with a \"help\" option, to roughly explain its usage. This part of the libary is handled in the `HPOpts` namespace and won't be explained here because it wasn't part of what the challenge required. It is just a way to get the parameters from files, command line or user input and print the results on screen."
      ],
      "metadata": {
        "id": "Ke5pS_zfjQS_"
      }
    },
    {
      "cell_type": "code",
      "source": [
        "!bin/HPLabrynth --help"
      ],
      "metadata": {
        "id": "lz91Yjb7NJBm"
      },
      "execution_count": null,
      "outputs": []
    },
    {
      "cell_type": "markdown",
      "source": [
        "## Checking Labs:\n",
        "I've put some \"test\" files in the \"files\" directory.\n",
        "\n",
        "We can use the --check option as follows to test those files.\n",
        "\n",
        "(the output is the file itself plus a line with either \"No path found\" or \"Has a path!!\")"
      ],
      "metadata": {
        "id": "giZwrpeok0VJ"
      }
    },
    {
      "cell_type": "code",
      "source": [
        "!bin/HPLabrynth --check ./files/test_path"
      ],
      "metadata": {
        "id": "z_HfUhhimBtW"
      },
      "execution_count": null,
      "outputs": []
    },
    {
      "cell_type": "code",
      "source": [
        "!bin/HPLabrynth --check ./files/test_nopath"
      ],
      "metadata": {
        "id": "FZF_3WpPMlHr"
      },
      "execution_count": null,
      "outputs": []
    },
    {
      "cell_type": "markdown",
      "source": [
        "## Colors!!!\n",
        "\n",
        "I've hadded a colorful mode to make the \"walls\" more visible for easier human checking. we can simply add --pretty to most combination of parameters.\n",
        "\n",
        "Note that we can only save to file with the correct (x and ' ') format, and walls now surround the entire labyrinth."
      ],
      "metadata": {
        "id": "qiG740HEmL8v"
      }
    },
    {
      "cell_type": "code",
      "source": [
        "!bin/HPLabrynth --check ./files/test_path --pretty"
      ],
      "metadata": {
        "id": "n9Y7guFhM5CI"
      },
      "execution_count": null,
      "outputs": []
    },
    {
      "cell_type": "code",
      "source": [
        "!bin/HPLabrynth --check ./files/test_nopath --pretty"
      ],
      "metadata": {
        "id": "W_sj4zM1nR83"
      },
      "execution_count": null,
      "outputs": []
    },
    {
      "cell_type": "markdown",
      "source": [
        "## Generating a Labyrinth:\n",
        "\n",
        "We can use the --rand option, this will output the generated labyrinth to std output, to save the result to file we can either use the --out option or just redirect the output to a file in the linux shell.\n",
        "\n",
        "Note that unless the --skip option is provided the program will always generate a valid labyrinth.\n",
        "\n",
        "To do so we can either pass the labyrinth parameters ourselves:"
      ],
      "metadata": {
        "id": "eQQBXUstnXE4"
      }
    },
    {
      "cell_type": "code",
      "source": [
        "!bin/HPLabrynth --rand=\"9 9 1 1 9 9\""
      ],
      "metadata": {
        "id": "T_gLmkPJNGP8"
      },
      "execution_count": null,
      "outputs": []
    },
    {
      "cell_type": "markdown",
      "source": [
        "or having the user input them: (separated by whitespaces)"
      ],
      "metadata": {
        "id": "PjTo0AbjnoPv"
      }
    },
    {
      "cell_type": "code",
      "source": [
        "!bin/HPLabrynth --rand"
      ],
      "metadata": {
        "id": "z55L9qTCns-G"
      },
      "execution_count": null,
      "outputs": []
    },
    {
      "cell_type": "markdown",
      "source": [
        "Of course we can make this output colorful too: (but note that --out and -pretty are mutually exclusive options)"
      ],
      "metadata": {
        "id": "DEJZW091pcbF"
      }
    },
    {
      "cell_type": "code",
      "source": [
        "!bin/HPLabrynth --rand=\"9 9 1 1 9 9\" --pretty"
      ],
      "metadata": {
        "id": "e2vEq6WrNUdx"
      },
      "execution_count": null,
      "outputs": []
    },
    {
      "cell_type": "markdown",
      "source": [
        "Here we can save the result to a file and then check if it has indeed a valid path:"
      ],
      "metadata": {
        "id": "LylRWMsopy3b"
      }
    },
    {
      "cell_type": "code",
      "source": [
        "!bin/HPLabrynth --rand=\"9 9 1 1 9 9\" --out=\"./files/9x9randLab.txt\"\n",
        "!cat ./files/9x9randLab.txt\n",
        "!bin/HPLabrynth --check ./files/9x9randLab.txt --pretty"
      ],
      "metadata": {
        "id": "65o099l_NaNU"
      },
      "execution_count": null,
      "outputs": []
    },
    {
      "cell_type": "markdown",
      "source": [
        "## Skipping the checking:\n",
        "This will generate a labyrinth with a 50% chance of walls per cell. (Therefore unlikely valid).\n",
        "\n",
        "I could have probably set the RNG to 30% or 40% or even have had the user choose the threshold, but I elected not to do that.\n",
        "\n",
        "We can do so with the --skip option. (For simplicity this option is not compatible with either --pretty or --out, please use the linux shell functionality to save the result to file.)"
      ],
      "metadata": {
        "id": "8t3_HvU1qBlX"
      }
    },
    {
      "cell_type": "code",
      "source": [
        "!bin/HPLabrynth --rand=\"10 20 1 1 9 9\" --skip"
      ],
      "metadata": {
        "id": "CR2I391HN8M1"
      },
      "execution_count": null,
      "outputs": []
    },
    {
      "cell_type": "code",
      "source": [
        "!bin/HPLabrynth --rand=\"10 20 1 1 9 9\" --skip > ./files/10x20randUnchekedLab.txt\n",
        "!cat ./files/10x20randUnchekedLab.txt; echo -e \"\\n\\n\"\n",
        "!bin/HPLabrynth --check ./files/10x20randUnchekedLab.txt --pretty"
      ],
      "metadata": {
        "id": "W6hoK7-sOGBq"
      },
      "execution_count": null,
      "outputs": []
    },
    {
      "cell_type": "markdown",
      "source": [
        "This concludes what was asked by the challenge."
      ],
      "metadata": {
        "id": "lm9hKncYriWN"
      }
    },
    {
      "cell_type": "markdown",
      "source": [
        "## More Testing!\n",
        "\n",
        "I've also made a couple of zsh scprits that use `HPLabrynth` to generate a bunch of different sized labyriths. This is just to test the program, nonetheless I have included them here so that you can test it too.\n",
        "\n",
        "The scripts are very simple, here is the code:"
      ],
      "metadata": {
        "id": "9VsXLxTTr2oo"
      }
    },
    {
      "cell_type": "code",
      "source": [
        "!cat ./make_lots_of_labs"
      ],
      "metadata": {
        "id": "W4RAZkxxsT35"
      },
      "execution_count": null,
      "outputs": []
    },
    {
      "cell_type": "code",
      "source": [
        "!cat ./test_labs"
      ],
      "metadata": {
        "id": "OETlHHiqsWGy"
      },
      "execution_count": null,
      "outputs": []
    },
    {
      "cell_type": "code",
      "source": [
        "!./make_lots_of_labs\n",
        "!./test_labs"
      ],
      "metadata": {
        "collapsed": true,
        "id": "H5xucHGeO02F"
      },
      "execution_count": null,
      "outputs": []
    }
  ]
}